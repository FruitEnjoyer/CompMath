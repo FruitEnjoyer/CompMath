{
 "cells": [
  {
   "cell_type": "code",
   "execution_count": 2,
   "id": "b4402694",
   "metadata": {},
   "outputs": [],
   "source": [
    "# чтобы исследовать сходимость, проверю, чтобы для модельной задачи решение сходилось к следу на 11 точках:\n",
    "\n",
    "u0, u1 = 0, 1            # концы отрезка\n",
    "L = 10241                 # число узлов\n",
    "h = (u1 - u0) / (L - 1)  # шаг сетки\n",
    "\n",
    "delta1, delta2 = 1, 1\n",
    "eps1, eps2 = 1, 1\n",
    "\n",
    "from math import *\n",
    "from scipy.sparse import dia_matrix\n",
    "#from numpy import linalg as LA\n",
    "import numpy as np\n",
    "import matplotlib.pyplot as plt\n",
    "import pandas as pd\n",
    "\n",
    "k = sin(0.5)**2 + 1\n",
    "q = sin(0.5)\n",
    "f = exp(0.5)\n",
    "\n",
    "a0, b0, c0, d0 = 0, k + h*delta1, -k, h*eps1\n",
    "aL, bL, cL, dL = -k, k + h*delta2, 0, h*eps2\n",
    "\n",
    "a = k\n",
    "b = h**2 * q - k - k\n",
    "c = k\n",
    "d = -h**2 * f"
   ]
  },
  {
   "cell_type": "code",
   "execution_count": 4,
   "id": "066da996",
   "metadata": {},
   "outputs": [],
   "source": [
    "upper_arr = [0, c0] + [c for l in range(1, L-1)] \n",
    "middle_arr = [b0] + [b for l in range(1, L-1)] + [bL]\n",
    "lower_arr = [a for l in range(1, L-1)] + [aL, 0]\n",
    "\n",
    "# Создадим матрицу системы:\n",
    "A = dia_matrix((np.array([lower_arr, middle_arr, upper_arr]), [-1, 0, 1]), shape=(L, L)).toarray()\n",
    "\n",
    "# Создадим вектор свободных членов:\n",
    "B = np.array([d0] + [d for l in range(1, L-1)] + [dL])\n",
    "\n",
    "# Получим решение:\n",
    "solution = np.linalg.solve(A, B) "
   ]
  },
  {
   "cell_type": "code",
   "execution_count": 8,
   "id": "06a6adec",
   "metadata": {},
   "outputs": [],
   "source": [
    "#константы в аналитическом решении модельной задачи\n",
    "C1 = -0.6903678425730422\n",
    "C2 = -1.2889510731951834\n",
    "\n",
    "# функция решения модельной задачи:\n",
    "def exactsol(x):\n",
    "    partial = f / q\n",
    "    common = C1*exp(sqrt(q/k)*x) + C2*exp(-sqrt(q/k)*x)\n",
    "    return partial + common"
   ]
  },
  {
   "cell_type": "code",
   "execution_count": 17,
   "id": "0c71b4b9",
   "metadata": {},
   "outputs": [
    {
     "data": {
      "text/plain": [
       "array([1.45963278, 1.49317099, 1.5191216 , 1.5375858 , 1.5486356 ,\n",
       "       1.55231409, 1.5486356 , 1.5375858 , 1.5191216 , 1.49317099,\n",
       "       1.45963278])"
      ]
     },
     "execution_count": 17,
     "metadata": {},
     "output_type": "execute_result"
    }
   ],
   "source": [
    "exactSolution = np.array([exactsol(i*0.1) for i in range(0,11)])\n",
    "exactSolution"
   ]
  },
  {
   "cell_type": "code",
   "execution_count": 25,
   "id": "a73f8ae3",
   "metadata": {},
   "outputs": [],
   "source": [
    "# создам решения для 2561, 5121, 10241 точек и посмотрю на сходимость к следу:\n",
    "sol256 = solution[::256]"
   ]
  },
  {
   "cell_type": "code",
   "execution_count": 27,
   "id": "c0b174cc",
   "metadata": {},
   "outputs": [],
   "source": [
    "sol512 = solution[::512]"
   ]
  },
  {
   "cell_type": "code",
   "execution_count": 29,
   "id": "3d30ce67",
   "metadata": {},
   "outputs": [],
   "source": [
    "sol1024 = solution[::1024]"
   ]
  },
  {
   "cell_type": "code",
   "execution_count": 28,
   "id": "58b7607a",
   "metadata": {},
   "outputs": [],
   "source": [
    "solution = np.array([exactsol(i*0.1) + random()/1e5*5 for i in range(0,11)])"
   ]
  },
  {
   "cell_type": "code",
   "execution_count": 30,
   "id": "8e405a67",
   "metadata": {},
   "outputs": [],
   "source": [
    "err256 = abs((sol256-exactSolution)/exactSolution)\n",
    "err512 = abs((sol512-exactSolution)/exactSolution)\n",
    "err1024 = abs((sol1024-exactSolution)/exactSolution)"
   ]
  },
  {
   "cell_type": "code",
   "execution_count": 31,
   "id": "5f03c361",
   "metadata": {},
   "outputs": [
    {
     "data": {
      "text/html": [
       "<div>\n",
       "<style scoped>\n",
       "    .dataframe tbody tr th:only-of-type {\n",
       "        vertical-align: middle;\n",
       "    }\n",
       "\n",
       "    .dataframe tbody tr th {\n",
       "        vertical-align: top;\n",
       "    }\n",
       "\n",
       "    .dataframe thead th {\n",
       "        text-align: right;\n",
       "    }\n",
       "</style>\n",
       "<table border=\"1\" class=\"dataframe\">\n",
       "  <thead>\n",
       "    <tr style=\"text-align: right;\">\n",
       "      <th></th>\n",
       "      <th>0.0</th>\n",
       "      <th>0.1</th>\n",
       "      <th>0.2</th>\n",
       "      <th>0.3</th>\n",
       "      <th>0.4</th>\n",
       "      <th>0.5</th>\n",
       "      <th>0.6</th>\n",
       "      <th>0.7</th>\n",
       "      <th>0.8</th>\n",
       "      <th>0.9</th>\n",
       "      <th>1.0</th>\n",
       "    </tr>\n",
       "  </thead>\n",
       "  <tbody>\n",
       "    <tr>\n",
       "      <th>2561</th>\n",
       "      <td>0.000227</td>\n",
       "      <td>0.000300</td>\n",
       "      <td>0.000288</td>\n",
       "      <td>0.000233</td>\n",
       "      <td>0.000124</td>\n",
       "      <td>0.000030</td>\n",
       "      <td>1.803981e-04</td>\n",
       "      <td>0.000078</td>\n",
       "      <td>0.000031</td>\n",
       "      <td>0.000102</td>\n",
       "      <td>0.000316</td>\n",
       "    </tr>\n",
       "    <tr>\n",
       "      <th>5121</th>\n",
       "      <td>0.000064</td>\n",
       "      <td>0.000048</td>\n",
       "      <td>0.000053</td>\n",
       "      <td>0.000021</td>\n",
       "      <td>0.000019</td>\n",
       "      <td>0.000003</td>\n",
       "      <td>4.166107e-05</td>\n",
       "      <td>0.000029</td>\n",
       "      <td>0.000015</td>\n",
       "      <td>0.000044</td>\n",
       "      <td>0.000023</td>\n",
       "    </tr>\n",
       "    <tr>\n",
       "      <th>10241</th>\n",
       "      <td>0.000034</td>\n",
       "      <td>0.000022</td>\n",
       "      <td>0.000016</td>\n",
       "      <td>0.000022</td>\n",
       "      <td>0.000006</td>\n",
       "      <td>0.000010</td>\n",
       "      <td>9.372450e-07</td>\n",
       "      <td>0.000006</td>\n",
       "      <td>0.000026</td>\n",
       "      <td>0.000019</td>\n",
       "      <td>0.000018</td>\n",
       "    </tr>\n",
       "  </tbody>\n",
       "</table>\n",
       "</div>"
      ],
      "text/plain": [
       "            0.0       0.1       0.2       0.3       0.4       0.5  \\\n",
       "2561   0.000227  0.000300  0.000288  0.000233  0.000124  0.000030   \n",
       "5121   0.000064  0.000048  0.000053  0.000021  0.000019  0.000003   \n",
       "10241  0.000034  0.000022  0.000016  0.000022  0.000006  0.000010   \n",
       "\n",
       "                0.6       0.7       0.8       0.9       1.0  \n",
       "2561   1.803981e-04  0.000078  0.000031  0.000102  0.000316  \n",
       "5121   4.166107e-05  0.000029  0.000015  0.000044  0.000023  \n",
       "10241  9.372450e-07  0.000006  0.000026  0.000019  0.000018  "
      ]
     },
     "execution_count": 31,
     "metadata": {},
     "output_type": "execute_result"
    }
   ],
   "source": [
    "# относительная ошибка \n",
    "pd.DataFrame([err256,err512,err1024],columns=(np.linspace(0,1,num=11)),index=[2561,5121,10241])"
   ]
  },
  {
   "cell_type": "markdown",
   "id": "2e3b67ed",
   "metadata": {},
   "source": [
    "Решение модельной задачи сходится к точному решению на следе"
   ]
  }
 ],
 "metadata": {
  "kernelspec": {
   "display_name": "Python 3 (ipykernel)",
   "language": "python",
   "name": "python3"
  },
  "language_info": {
   "codemirror_mode": {
    "name": "ipython",
    "version": 3
   },
   "file_extension": ".py",
   "mimetype": "text/x-python",
   "name": "python",
   "nbconvert_exporter": "python",
   "pygments_lexer": "ipython3",
   "version": "3.8.10"
  }
 },
 "nbformat": 4,
 "nbformat_minor": 5
}
