{
 "cells": [
  {
   "cell_type": "markdown",
   "id": "886f52cd",
   "metadata": {},
   "source": [
    "# 3 задача\n",
    "## Найти собственные значения задачи Штурма-Лиувилля\n",
    "\n",
    "### Постановка задачи\n",
    "\n",
    "\\begin{equation}\n",
    "\\left.\n",
    "  \\begin{array}{ccc}\n",
    "    \\frac{d^2y}{dx^2}+\\lambda q_0(x)y = 0\\\\\n",
    "   y(0) = y(1) = 0\n",
    "  \\end{array}\n",
    "\\right\\}\n",
    "\\end{equation}\n",
    "\n",
    "\\begin{equation}\n",
    "q_0(x) =  \n",
    "\\left\\{\n",
    "  \\begin{array}{ccc}\n",
    "    2, 0 \\leq x \\leq 1/2 \\\\\n",
    "    1, 1/2 \\leq x \\leq 1 \n",
    "  \\end{array}\n",
    "\\right.\n",
    "\\end{equation}\n",
    "\n",
    "\\begin{equation}\n",
    "0 < x < D = 1\n",
    "\\end{equation}\n",
    "\n"
   ]
  },
  {
   "cell_type": "code",
   "execution_count": 162,
   "id": "8a7dd43b",
   "metadata": {},
   "outputs": [],
   "source": [
    "x0, xN = 0, 1      # концы отрезка\n",
    "L = 1000             # число отрезков\n",
    "h = (xN - x0) / L  # шаг сетки"
   ]
  },
  {
   "cell_type": "markdown",
   "id": "1da1d274",
   "metadata": {},
   "source": [
    "### Заменим производные в узлах сетки конечными разностями\n",
    "\n",
    "\\begin{equation} \n",
    "\\left\\{\n",
    "  \\begin{array}{ccc}\n",
    "      \\frac{y_{l-1} - 2y_l + y_{l+1}}{h^2} + \\lambda q_{0_l} y_l = 0\\\\\n",
    "      y_0 = y_L = 0\n",
    "  \\end{array}\n",
    "\\right.\n",
    "\\end{equation}\n",
    "\n",
    "#### Теперь необходимо решить полученную однородную систему линейных уравнений\n",
    "\n",
    "Перепишем систему в более удобном виде:\n",
    "\n",
    "\\begin{equation} \n",
    "\\left\\{\n",
    "  \\begin{array}{ccc}\n",
    "      y_{l-1} + (\\lambda h^2 q_{0_l} - 2)y_l + y_{l+1} = 0\\\\\n",
    "      y_0 = y_L = 0\n",
    "  \\end{array}\n",
    "\\right.\n",
    "\\end{equation}\n",
    "\n",
    "Размер матрицы системы: L+1 на L+1\n",
    "\n",
    "Для решения такой системы (она имеет тривиальное решение при невырожденности, нам это не нужно!) необходимо равенство нуля детерминанта матрицы системы A:",
    "\n",
    "\\begin{equation} \n",
    "A(\\lambda)\\cdot \\overrightarrow{y} = \\overrightarrow{0}\n",
    "\\end{equation}\n",
    "\n",
    "#### Заметим, что матрица системы имеет удобный для численного решения вид - трёхдиагональный.\n",
    "Для таких матриц используется метод прогонки (алгоритм Томаса). Мы же воспользуемся встроенной функцией из numpy.linalg для разреженной матрицы из scipy.sparse:"
   ]
  },
  {
   "cell_type": "code",
   "execution_count": 163,
   "id": "c79a5c53",
   "metadata": {},
   "outputs": [],
   "source": [
    "import numpy as np\n",
    "from scipy.sparse import dia_matrix\n",
    "from numpy import linalg as LA\n",
    "\n",
    "def q0(x):\n",
    "    return 2 if x <= 1/2 else 1\n",
    "\n",
    "def calcDet(lam):\n",
    "    upper_arr = [0, 0] + [1 for i in range(1, L)]\n",
    "    middle_arr = [1] + [-2+lam* q0(i*h) *h**2 for i in range(1, L)] + [1]\n",
    "    lower_arr = [1 for i in range(1, L)] + [0, 0]\n",
    "    return LA.det(dia_matrix((np.array([lower_arr, middle_arr, upper_arr]), [-1, 0, 1]), shape=(L + 1, L + 1)).toarray())\n"
   ]
  },
  {
   "cell_type": "markdown",
   "id": "440c7a72",
   "metadata": {},
   "source": [
    "### Локализуем корни\n",
    "#### Для этого найдем области смены знака уравнения \n",
    "\\begin{equation} \n",
    "det(A(\\lambda)) = 0\n",
    "\\end{equation}"
   ]
  },
  {
   "cell_type": "code",
   "execution_count": 170,
   "id": "a2da9eae",
   "metadata": {},
   "outputs": [
    {
     "name": "stdout",
     "output_type": "stream",
     "text": [
      "Локализуем корни:\n",
      "(6.0, 8.0)\n",
      "(28.0, 30.0)\n",
      "(58.0, 60.0)\n",
      "(110.0, 112.0)\n",
      "(166.0, 168.0)\n"
     ]
    }
   ],
   "source": [
    "n = 100\n",
    "z1, z2 = 0, 200\n",
    "value = [calcDet(z1 + i * (z2 - z1) / n) for i in range(n + 1)]\n",
    "roots = []\n",
    "for i in range(n):\n",
    "#     print(value[i] * value[i + 1])\n",
    "    if value[i] * value[i + 1] < 0:\n",
    "        x1 = z1 + i * (z2 - z1) / n\n",
    "        x2 = z1 + (i + 1) * (z2 - z1) / n\n",
    "        roots.append((x1, x2))\n",
    "print('Локализуем корни:')\n",
    "for i in range(len(roots)): print(roots[i])"
   ]
  },
  {
   "cell_type": "markdown",
   "id": "6ad9311b",
   "metadata": {},
   "source": [
    "### Уточняем значение корня методом половинного деления\n",
    "#### Для каждого корня повторяем процедуру до достижения целевой точности \n",
    "\\begin{equation} \n",
    "\\delta = 10^{-4}\n",
    "\\end{equation}"
   ]
  },
  {
   "cell_type": "code",
   "execution_count": 172,
   "id": "d843b4ea",
   "metadata": {},
   "outputs": [
    {
     "name": "stdout",
     "output_type": "stream",
     "text": [
      "\n",
      "Уточняем значение корней:\n",
      "6.403717041015625\n",
      "28.431304931640625\n",
      "58.730743408203125\n",
      "110.76235961914062\n",
      "167.68771362304688\n"
     ]
    }
   ],
   "source": [
    "delta = 1e-4\n",
    "Y = []\n",
    "for i in range(len(roots)):\n",
    "    a = roots[i][0]\n",
    "    b = roots[i][1]\n",
    "    while (b - a > delta):\n",
    "        c = (a + b) / 2\n",
    "        if calcDet(c) * calcDet(a) < 0:\n",
    "            b = c\n",
    "        else:\n",
    "            a = c\n",
    "    Y.append((a + b) / 2)\n",
    "print('\\nУточняем значение корней:')\n",
    "for i in range(len(Y)): print(Y[i])"
   ]
  }
 ],
 "metadata": {
  "kernelspec": {
   "display_name": "Python 3 (ipykernel)",
   "language": "python",
   "name": "python3"
  },
  "language_info": {
   "codemirror_mode": {
    "name": "ipython",
    "version": 3
   },
   "file_extension": ".py",
   "mimetype": "text/x-python",
   "name": "python",
   "nbconvert_exporter": "python",
   "pygments_lexer": "ipython3",
   "version": "3.9.12"
  }
 },
 "nbformat": 4,
 "nbformat_minor": 5
}
