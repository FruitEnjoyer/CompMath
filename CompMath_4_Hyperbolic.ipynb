{
 "cells": [
  {
   "cell_type": "markdown",
   "id": "aa5a8f6f",
   "metadata": {},
   "source": [
    "# 4 задача\n",
    "## Найти численное решение смешанной задачи для уравнения переноса в квадрате 0 < x,t < 1 и сравнить их значения в 11 точках при t  = 1\n",
    "\n",
    "### Постановка задачи (вариант №1 задание №11)\n",
    "\n",
    "#### Дифференциальная задача:\n",
    "\n",
    "\\begin{gather*}\n",
    "   {\\partial u \\over \\partial t}  + e^x {\\partial u \\over \\partial x} = x\\\\\n",
    "\\end{gather*}\n",
    "\n",
    "\\begin{equation}\n",
    "0 \\leq x \\leq 1 \n",
    "\\end{equation}\n",
    "\n",
    "#### Краевые условия задачи:\n",
    "\n",
    "\\begin{equation}\n",
    "\\left.\n",
    "  \\begin{array}{ccc}\n",
    "      u(x,0) = e^{2x} +(x-1)e^x \\\\\n",
    "      u(0,t) = (t-1)^2-1\n",
    "  \\end{array}\n",
    "\\right\\}\n",
    "\\end{equation}\n",
    "\n",
    "#### Разностная схема:\n",
    "\n",
    "\\begin{equation}\n",
    "\\left\\{\n",
    "  \\begin{array}{ccc}\n",
    "  u_l^{n+1} = u_l^n-{\\tau_n \\over h}e^{-x_l}(u_l^n-u_{l-1}^n)+\\tau_nx_l, \\;\\;\\;\\;\\; l \\in [1;L], \\;\\; n \\in [0;N-1]\\\\\n",
    "      u_l^0 = e^{2x_l}+(x_l-1)e^{x_l}, \\;\\;\\;\\;\\; l \\in [0;L]\\\\ \n",
    "      u_o^n = (t^n-1)^2-1, \\;\\;\\;\\;\\; n \\in [1;N]\n",
    "  \\end{array}\n",
    "\\right.\n",
    "\\end{equation}"
   ]
  },
  {
   "cell_type": "code",
   "execution_count": 93,
   "id": "e96466a3",
   "metadata": {},
   "outputs": [],
   "source": [
    "u0, u1 = 0, 1            # концы отрезка\n",
    "L = 10241                # число узлов\n",
    "h = (u1 - u0) / (L - 1)  # шаг сетки\n",
    "Nt = 10241                 # число шагов по времени\n",
    "tau = 1 / (Nt - 1)      # шаг по времени"
   ]
  },
  {
   "cell_type": "code",
   "execution_count": 17,
   "id": "964cfd5d",
   "metadata": {},
   "outputs": [],
   "source": [
    "from math import *\n",
    "from scipy.sparse import dia_matrix\n",
    "#from numpy import linalg as LA\n",
    "import numpy as np\n",
    "import matplotlib.pyplot as plt\n",
    "import pandas as pd"
   ]
  },
  {
   "cell_type": "code",
   "execution_count": 94,
   "id": "a990fd31",
   "metadata": {},
   "outputs": [
    {
     "name": "stdout",
     "output_type": "stream",
     "text": [
      "tau =  9.765625e-05\n",
      "2h/a = 0.0001953125\n"
     ]
    }
   ],
   "source": [
    "#проверим спектральный признак устойчивости\n",
    "print('tau = ', tau)\n",
    "print('2h/a =', 2*h/1)"
   ]
  },
  {
   "cell_type": "code",
   "execution_count": 95,
   "id": "9a64f6aa",
   "metadata": {},
   "outputs": [
    {
     "name": "stdout",
     "output_type": "stream",
     "text": [
      "10241\n"
     ]
    }
   ],
   "source": [
    "#начальное условние\n",
    "start = np.array([exp(2*i*h) + (i*h-1)*exp(i*h) for i in range(0,L)])\n",
    "print(start.size)\n",
    "t = 1"
   ]
  },
  {
   "cell_type": "code",
   "execution_count": 46,
   "id": "85d0e3e1",
   "metadata": {},
   "outputs": [],
   "source": [
    "#функция расчета следующего слоя по времени:\n",
    "def NextLay(prevlay,time):\n",
    "    bound = (time-1)**2-1\n",
    "    other = [prevlay[i]-tau/h*exp(-i*h)*(prevlay[i]-prevlay[i-1])+tau*i*h for i in range(1,L)]\n",
    "    return np.array([bound] + other)"
   ]
  },
  {
   "cell_type": "code",
   "execution_count": 75,
   "id": "03163bca",
   "metadata": {},
   "outputs": [
    {
     "data": {
      "text/plain": [
       "array([-1.56188965e-03,  2.25023786e-01,  5.12795906e-01,  8.75110524e-01,\n",
       "        1.32811738e+00,  1.89134754e+00,  2.58842505e+00,  3.44793064e+00,\n",
       "        4.50445010e+00,  5.79984760e+00,  7.38481271e+00])"
      ]
     },
     "execution_count": 75,
     "metadata": {},
     "output_type": "execute_result"
    }
   ],
   "source": [
    "NextLay(start,1*tau)[::128]"
   ]
  },
  {
   "cell_type": "code",
   "execution_count": 96,
   "id": "8856202e",
   "metadata": {},
   "outputs": [
    {
     "name": "stdout",
     "output_type": "stream",
     "text": [
      "[-1.         -0.98358589 -0.92808392 -0.82246227 -0.65313871 -0.40341944\n",
      " -0.0528158   0.42378605  1.05710768  1.88479831  2.95286652]\n"
     ]
    }
   ],
   "source": [
    "currentlay = start\n",
    "for j in range(1, Nt):\n",
    "    currentlay = NextLay(currentlay,tau*j)\n",
    "solution = currentlay\n",
    "print(solution[::1024])"
   ]
  },
  {
   "cell_type": "code",
   "execution_count": 60,
   "id": "08919215",
   "metadata": {},
   "outputs": [],
   "source": [
    "sol32 = solution[::32]"
   ]
  },
  {
   "cell_type": "code",
   "execution_count": 70,
   "id": "da35b1c2",
   "metadata": {},
   "outputs": [],
   "source": [
    "sol64 = solution[::64]"
   ]
  },
  {
   "cell_type": "code",
   "execution_count": 78,
   "id": "088ca830",
   "metadata": {},
   "outputs": [],
   "source": [
    "sol128 = solution[::128]"
   ]
  },
  {
   "cell_type": "code",
   "execution_count": 85,
   "id": "74d47213",
   "metadata": {},
   "outputs": [],
   "source": [
    "sol256 = solution[::256]"
   ]
  },
  {
   "cell_type": "code",
   "execution_count": 91,
   "id": "4aaa77b8",
   "metadata": {},
   "outputs": [],
   "source": [
    "sol512 = solution[::512]"
   ]
  },
  {
   "cell_type": "code",
   "execution_count": 97,
   "id": "23e719aa",
   "metadata": {},
   "outputs": [],
   "source": [
    "sol1024 = solution[::1024]"
   ]
  },
  {
   "cell_type": "code",
   "execution_count": 98,
   "id": "847ae265",
   "metadata": {},
   "outputs": [
    {
     "data": {
      "text/html": [
       "<div>\n",
       "<style scoped>\n",
       "    .dataframe tbody tr th:only-of-type {\n",
       "        vertical-align: middle;\n",
       "    }\n",
       "\n",
       "    .dataframe tbody tr th {\n",
       "        vertical-align: top;\n",
       "    }\n",
       "\n",
       "    .dataframe thead th {\n",
       "        text-align: right;\n",
       "    }\n",
       "</style>\n",
       "<table border=\"1\" class=\"dataframe\">\n",
       "  <thead>\n",
       "    <tr style=\"text-align: right;\">\n",
       "      <th></th>\n",
       "      <th>0.0</th>\n",
       "      <th>0.1</th>\n",
       "      <th>0.2</th>\n",
       "      <th>0.3</th>\n",
       "      <th>0.4</th>\n",
       "      <th>0.5</th>\n",
       "      <th>0.6</th>\n",
       "      <th>0.7</th>\n",
       "      <th>0.8</th>\n",
       "      <th>0.9</th>\n",
       "      <th>1.0</th>\n",
       "    </tr>\n",
       "  </thead>\n",
       "  <tbody>\n",
       "    <tr>\n",
       "      <th>321</th>\n",
       "      <td>-1.0</td>\n",
       "      <td>-0.983368</td>\n",
       "      <td>-0.927490</td>\n",
       "      <td>-0.821290</td>\n",
       "      <td>-0.651132</td>\n",
       "      <td>-0.400252</td>\n",
       "      <td>-0.048080</td>\n",
       "      <td>0.430481</td>\n",
       "      <td>1.065328</td>\n",
       "      <td>1.894630</td>\n",
       "      <td>2.964452</td>\n",
       "    </tr>\n",
       "    <tr>\n",
       "      <th>641</th>\n",
       "      <td>-1.0</td>\n",
       "      <td>-0.983480</td>\n",
       "      <td>-0.927797</td>\n",
       "      <td>-0.821896</td>\n",
       "      <td>-0.652169</td>\n",
       "      <td>-0.401889</td>\n",
       "      <td>-0.050527</td>\n",
       "      <td>0.427034</td>\n",
       "      <td>1.061086</td>\n",
       "      <td>1.889557</td>\n",
       "      <td>2.958475</td>\n",
       "    </tr>\n",
       "    <tr>\n",
       "      <th>1281</th>\n",
       "      <td>-1.0</td>\n",
       "      <td>-0.983537</td>\n",
       "      <td>-0.927950</td>\n",
       "      <td>-0.822198</td>\n",
       "      <td>-0.652686</td>\n",
       "      <td>-0.402706</td>\n",
       "      <td>-0.051748</td>\n",
       "      <td>0.425304</td>\n",
       "      <td>1.058965</td>\n",
       "      <td>1.887020</td>\n",
       "      <td>2.955484</td>\n",
       "    </tr>\n",
       "    <tr>\n",
       "      <th>2561</th>\n",
       "      <td>-1.0</td>\n",
       "      <td>-0.983565</td>\n",
       "      <td>-0.928027</td>\n",
       "      <td>-0.822349</td>\n",
       "      <td>-0.652945</td>\n",
       "      <td>-0.403114</td>\n",
       "      <td>-0.052358</td>\n",
       "      <td>0.424437</td>\n",
       "      <td>1.057904</td>\n",
       "      <td>1.885750</td>\n",
       "      <td>2.953989</td>\n",
       "    </tr>\n",
       "    <tr>\n",
       "      <th>5121</th>\n",
       "      <td>-1.0</td>\n",
       "      <td>-0.983579</td>\n",
       "      <td>-0.928065</td>\n",
       "      <td>-0.822425</td>\n",
       "      <td>-0.653074</td>\n",
       "      <td>-0.403318</td>\n",
       "      <td>-0.052663</td>\n",
       "      <td>0.424003</td>\n",
       "      <td>1.057373</td>\n",
       "      <td>1.885116</td>\n",
       "      <td>2.953241</td>\n",
       "    </tr>\n",
       "    <tr>\n",
       "      <th>10241</th>\n",
       "      <td>-1.0</td>\n",
       "      <td>-0.983586</td>\n",
       "      <td>-0.928084</td>\n",
       "      <td>-0.822462</td>\n",
       "      <td>-0.653139</td>\n",
       "      <td>-0.403419</td>\n",
       "      <td>-0.052816</td>\n",
       "      <td>0.423786</td>\n",
       "      <td>1.057108</td>\n",
       "      <td>1.884798</td>\n",
       "      <td>2.952867</td>\n",
       "    </tr>\n",
       "  </tbody>\n",
       "</table>\n",
       "</div>"
      ],
      "text/plain": [
       "       0.0       0.1       0.2       0.3       0.4       0.5       0.6  \\\n",
       "321   -1.0 -0.983368 -0.927490 -0.821290 -0.651132 -0.400252 -0.048080   \n",
       "641   -1.0 -0.983480 -0.927797 -0.821896 -0.652169 -0.401889 -0.050527   \n",
       "1281  -1.0 -0.983537 -0.927950 -0.822198 -0.652686 -0.402706 -0.051748   \n",
       "2561  -1.0 -0.983565 -0.928027 -0.822349 -0.652945 -0.403114 -0.052358   \n",
       "5121  -1.0 -0.983579 -0.928065 -0.822425 -0.653074 -0.403318 -0.052663   \n",
       "10241 -1.0 -0.983586 -0.928084 -0.822462 -0.653139 -0.403419 -0.052816   \n",
       "\n",
       "            0.7       0.8       0.9       1.0  \n",
       "321    0.430481  1.065328  1.894630  2.964452  \n",
       "641    0.427034  1.061086  1.889557  2.958475  \n",
       "1281   0.425304  1.058965  1.887020  2.955484  \n",
       "2561   0.424437  1.057904  1.885750  2.953989  \n",
       "5121   0.424003  1.057373  1.885116  2.953241  \n",
       "10241  0.423786  1.057108  1.884798  2.952867  "
      ]
     },
     "execution_count": 98,
     "metadata": {},
     "output_type": "execute_result"
    }
   ],
   "source": [
    "# решения в 11 точках на [0;1]\n",
    "pd.DataFrame([sol32,sol64,sol128,sol256,sol512,sol1024],columns=(np.linspace(0,1,num=11)),index=[321,641,1281,2561,5121,10241])"
   ]
  },
  {
   "cell_type": "code",
   "execution_count": 104,
   "id": "7b9ad59a",
   "metadata": {},
   "outputs": [],
   "source": [
    "err32 = abs((sol32-sol1024)/sol1024)\n",
    "err64 = abs((sol64-sol1024)/sol1024)\n",
    "err128 = abs((sol128-sol1024)/sol1024)\n",
    "err256 = abs((sol256-sol1024)/sol1024)\n",
    "err512 = abs((sol512-sol1024)/sol1024)"
   ]
  },
  {
   "cell_type": "code",
   "execution_count": 105,
   "id": "893f2fda",
   "metadata": {},
   "outputs": [
    {
     "data": {
      "text/html": [
       "<div>\n",
       "<style scoped>\n",
       "    .dataframe tbody tr th:only-of-type {\n",
       "        vertical-align: middle;\n",
       "    }\n",
       "\n",
       "    .dataframe tbody tr th {\n",
       "        vertical-align: top;\n",
       "    }\n",
       "\n",
       "    .dataframe thead th {\n",
       "        text-align: right;\n",
       "    }\n",
       "</style>\n",
       "<table border=\"1\" class=\"dataframe\">\n",
       "  <thead>\n",
       "    <tr style=\"text-align: right;\">\n",
       "      <th></th>\n",
       "      <th>0.0</th>\n",
       "      <th>0.1</th>\n",
       "      <th>0.2</th>\n",
       "      <th>0.3</th>\n",
       "      <th>0.4</th>\n",
       "      <th>0.5</th>\n",
       "      <th>0.6</th>\n",
       "      <th>0.7</th>\n",
       "      <th>0.8</th>\n",
       "      <th>0.9</th>\n",
       "      <th>1.0</th>\n",
       "    </tr>\n",
       "  </thead>\n",
       "  <tbody>\n",
       "    <tr>\n",
       "      <th>321</th>\n",
       "      <td>0.0</td>\n",
       "      <td>0.000222</td>\n",
       "      <td>0.000640</td>\n",
       "      <td>0.001425</td>\n",
       "      <td>0.003073</td>\n",
       "      <td>0.007850</td>\n",
       "      <td>0.089664</td>\n",
       "      <td>0.015798</td>\n",
       "      <td>0.007777</td>\n",
       "      <td>0.005216</td>\n",
       "      <td>0.003924</td>\n",
       "    </tr>\n",
       "    <tr>\n",
       "      <th>641</th>\n",
       "      <td>0.0</td>\n",
       "      <td>0.000107</td>\n",
       "      <td>0.000309</td>\n",
       "      <td>0.000689</td>\n",
       "      <td>0.001485</td>\n",
       "      <td>0.003794</td>\n",
       "      <td>0.043334</td>\n",
       "      <td>0.007663</td>\n",
       "      <td>0.003764</td>\n",
       "      <td>0.002525</td>\n",
       "      <td>0.001899</td>\n",
       "    </tr>\n",
       "    <tr>\n",
       "      <th>1281</th>\n",
       "      <td>0.0</td>\n",
       "      <td>0.000050</td>\n",
       "      <td>0.000144</td>\n",
       "      <td>0.000321</td>\n",
       "      <td>0.000693</td>\n",
       "      <td>0.001769</td>\n",
       "      <td>0.020210</td>\n",
       "      <td>0.003582</td>\n",
       "      <td>0.001757</td>\n",
       "      <td>0.001179</td>\n",
       "      <td>0.000887</td>\n",
       "    </tr>\n",
       "    <tr>\n",
       "      <th>2561</th>\n",
       "      <td>0.0</td>\n",
       "      <td>0.000021</td>\n",
       "      <td>0.000062</td>\n",
       "      <td>0.000138</td>\n",
       "      <td>0.000297</td>\n",
       "      <td>0.000758</td>\n",
       "      <td>0.008659</td>\n",
       "      <td>0.001537</td>\n",
       "      <td>0.000753</td>\n",
       "      <td>0.000505</td>\n",
       "      <td>0.000380</td>\n",
       "    </tr>\n",
       "    <tr>\n",
       "      <th>5121</th>\n",
       "      <td>0.0</td>\n",
       "      <td>0.000007</td>\n",
       "      <td>0.000021</td>\n",
       "      <td>0.000046</td>\n",
       "      <td>0.000099</td>\n",
       "      <td>0.000253</td>\n",
       "      <td>0.002886</td>\n",
       "      <td>0.000513</td>\n",
       "      <td>0.000251</td>\n",
       "      <td>0.000168</td>\n",
       "      <td>0.000127</td>\n",
       "    </tr>\n",
       "  </tbody>\n",
       "</table>\n",
       "</div>"
      ],
      "text/plain": [
       "      0.0       0.1       0.2       0.3       0.4       0.5       0.6  \\\n",
       "321   0.0  0.000222  0.000640  0.001425  0.003073  0.007850  0.089664   \n",
       "641   0.0  0.000107  0.000309  0.000689  0.001485  0.003794  0.043334   \n",
       "1281  0.0  0.000050  0.000144  0.000321  0.000693  0.001769  0.020210   \n",
       "2561  0.0  0.000021  0.000062  0.000138  0.000297  0.000758  0.008659   \n",
       "5121  0.0  0.000007  0.000021  0.000046  0.000099  0.000253  0.002886   \n",
       "\n",
       "           0.7       0.8       0.9       1.0  \n",
       "321   0.015798  0.007777  0.005216  0.003924  \n",
       "641   0.007663  0.003764  0.002525  0.001899  \n",
       "1281  0.003582  0.001757  0.001179  0.000887  \n",
       "2561  0.001537  0.000753  0.000505  0.000380  \n",
       "5121  0.000513  0.000251  0.000168  0.000127  "
      ]
     },
     "execution_count": 105,
     "metadata": {},
     "output_type": "execute_result"
    }
   ],
   "source": [
    "# относительная ошибка \n",
    "pd.DataFrame([err32,err64,err128,err256,err512],columns=(np.linspace(0,1,num=11)),index=[321,641,1281,2561,5121])"
   ]
  },
  {
   "cell_type": "code",
   "execution_count": null,
   "id": "2edfccfd",
   "metadata": {},
   "outputs": [],
   "source": []
  }
 ],
 "metadata": {
  "kernelspec": {
   "display_name": "Python 3 (ipykernel)",
   "language": "python",
   "name": "python3"
  },
  "language_info": {
   "codemirror_mode": {
    "name": "ipython",
    "version": 3
   },
   "file_extension": ".py",
   "mimetype": "text/x-python",
   "name": "python",
   "nbconvert_exporter": "python",
   "pygments_lexer": "ipython3",
   "version": "3.8.10"
  }
 },
 "nbformat": 4,
 "nbformat_minor": 5
}
